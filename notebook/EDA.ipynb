{
 "cells": [
  {
   "cell_type": "markdown",
   "id": "d82313c4-7f36-46d4-b949-ca7f655e205f",
   "metadata": {},
   "source": [
    "---\n",
    "# Data Analysis\n",
    "---\n",
    "In this notebook, it is the data analysis section.\n",
    "\n",
    "\n",
    "\n",
    "\n",
    "---\n",
    "## Results\n",
    "---\n",
    "\n",
    "\n",
    "\n",
    "\n",
    "---"
   ]
  },
  {
   "cell_type": "markdown",
   "id": "e9a3ae22-9101-4961-b81d-845ecdd66eca",
   "metadata": {},
   "source": [
    "### Importing necessary library"
   ]
  },
  {
   "cell_type": "code",
   "execution_count": 1,
   "id": "75730562-4273-4a37-b692-3347a22174e2",
   "metadata": {
    "execution": {
     "iopub.execute_input": "2025-03-05T13:56:22.903275Z",
     "iopub.status.busy": "2025-03-05T13:56:22.902289Z",
     "iopub.status.idle": "2025-03-05T13:56:25.789255Z",
     "shell.execute_reply": "2025-03-05T13:56:25.787793Z",
     "shell.execute_reply.started": "2025-03-05T13:56:22.903224Z"
    }
   },
   "outputs": [],
   "source": [
    "import pandas as pd\n",
    "import numpy as np\n",
    "\n",
    "import seaborn as sns\n",
    "import matplotlib.pyplot as plt\n"
   ]
  },
  {
   "cell_type": "markdown",
   "id": "4f8bf5d1-0900-4068-9fac-a6b4ff2443f3",
   "metadata": {},
   "source": [
    "### Read data file"
   ]
  },
  {
   "cell_type": "code",
   "execution_count": null,
   "id": "1ff82e6b-56e1-4487-982c-dbec65c17e00",
   "metadata": {},
   "outputs": [],
   "source": [
    "df = pd.read_excel('')\n",
    "df"
   ]
  },
  {
   "cell_type": "markdown",
   "id": "21a8d3b9-5cfa-4f84-a9ac-2bebd05f87d8",
   "metadata": {},
   "source": [
    "### Investigate distribution by rating category"
   ]
  },
  {
   "cell_type": "code",
   "execution_count": null,
   "id": "99cdc8d9-eb16-46ad-b328-f28817832f55",
   "metadata": {},
   "outputs": [],
   "source": [
    "\n",
    "max_rating = df['Rating'].max()\n",
    "min_rating = df['Rating'].min()\n",
    "\n",
    "col = 'Rating'\n",
    "\n",
    "# Create the figure and adjust its size\n",
    "fig = plt.fig(figsize=(12,4))\n",
    "\n",
    "ax = sns.countplot(data=df,x=col, order=list(range(min_rating, max_rating+1)))\n",
    "\n",
    "# Set Title\n",
    "ax.set_title(f'Count by {col} category')\n",
    "\n",
    "plt.show()"
   ]
  },
  {
   "cell_type": "markdown",
   "id": "d22dac06-ae23-4219-9d05-94c2bc2143e9",
   "metadata": {
    "jupyter": {
     "source_hidden": true
    }
   },
   "source": [
    "### Investigate distribution by Age\n"
   ]
  },
  {
   "cell_type": "code",
   "execution_count": null,
   "id": "41e48d4f-b6f3-46d1-a10f-fc946e667070",
   "metadata": {},
   "outputs": [],
   "source": [
    "col = 'Age'\n",
    "\n",
    "# Create the figure and adjust its size\n",
    "fig = plt.fig(figsize=(12,4))\n",
    "\n",
    "ax = sns.countplot(data=df,x=col, order=list(range(min_rating, max_rating+1)))\n",
    "\n",
    "# Set Title\n",
    "ax.set_title(f'Count by {col} category')\n",
    "\n",
    "plt.show()"
   ]
  },
  {
   "cell_type": "markdown",
   "id": "35ff7d0b-56af-469f-a03f-b4450a42b412",
   "metadata": {},
   "source": [
    "### Investigate distribution by # of player\n"
   ]
  },
  {
   "cell_type": "code",
   "execution_count": null,
   "id": "6531753d-9dbe-4f31-9755-c71e5fc68873",
   "metadata": {},
   "outputs": [],
   "source": [
    "col = '# Player'\n",
    "\n",
    "# Create the figure and adjust its size\n",
    "fig = plt.fig(figsize=(12,4))\n",
    "\n",
    "ax = sns.countplot(data=df,x=col, order=list(range(min_rating, max_rating+1)))\n",
    "\n",
    "# Set Title\n",
    "ax.set_title(f'Count by {col} category')\n",
    "\n",
    "plt.show()"
   ]
  },
  {
   "cell_type": "markdown",
   "id": "8d4c43d3-ea2b-4152-a228-dc330ba116f3",
   "metadata": {},
   "source": [
    "### Investigate distribution by playing time\n"
   ]
  },
  {
   "cell_type": "code",
   "execution_count": null,
   "id": "943e6f66-b338-44d0-a5e1-8dea1f7dd560",
   "metadata": {},
   "outputs": [],
   "source": [
    "col = 'Playing Time'\n",
    "\n",
    "# Create the figure and adjust its size\n",
    "fig = plt.fig(figsize=(12,4))\n",
    "\n",
    "ax = sns.countplot(data=df,x=col, order=list(range(min_rating, max_rating+1)))\n",
    "\n",
    "# Set Title\n",
    "ax.set_title(f'Count by {col} category')\n",
    "\n",
    "plt.show()"
   ]
  },
  {
   "cell_type": "markdown",
   "id": "62786a94-5bbd-4d0b-8e6b-aedf3599fb3e",
   "metadata": {},
   "source": [
    "### Investigate distribution by Category\n"
   ]
  },
  {
   "cell_type": "code",
   "execution_count": 1,
   "id": "1ccc6123-260e-4356-bde4-3ecac184472c",
   "metadata": {
    "execution": {
     "iopub.execute_input": "2025-03-26T17:02:21.112754Z",
     "iopub.status.busy": "2025-03-26T17:02:21.109709Z",
     "iopub.status.idle": "2025-03-26T17:02:21.350017Z",
     "shell.execute_reply": "2025-03-26T17:02:21.348342Z",
     "shell.execute_reply.started": "2025-03-26T17:02:21.112641Z"
    }
   },
   "outputs": [
    {
     "ename": "NameError",
     "evalue": "name 'plt' is not defined",
     "output_type": "error",
     "traceback": [
      "\u001b[0;31m---------------------------------------------------------------------------\u001b[0m",
      "\u001b[0;31mNameError\u001b[0m                                 Traceback (most recent call last)",
      "Cell \u001b[0;32mIn[1], line 4\u001b[0m\n\u001b[1;32m      1\u001b[0m col \u001b[38;5;241m=\u001b[39m \u001b[38;5;124m'\u001b[39m\u001b[38;5;124mCategory\u001b[39m\u001b[38;5;124m'\u001b[39m\n\u001b[1;32m      3\u001b[0m \u001b[38;5;66;03m# Create the figure and adjust its size\u001b[39;00m\n\u001b[0;32m----> 4\u001b[0m fig \u001b[38;5;241m=\u001b[39m \u001b[43mplt\u001b[49m\u001b[38;5;241m.\u001b[39mfig(figsize\u001b[38;5;241m=\u001b[39m(\u001b[38;5;241m12\u001b[39m,\u001b[38;5;241m4\u001b[39m))\n\u001b[1;32m      6\u001b[0m ax \u001b[38;5;241m=\u001b[39m sns\u001b[38;5;241m.\u001b[39mcountplot(data\u001b[38;5;241m=\u001b[39mdf,x\u001b[38;5;241m=\u001b[39mcol, order\u001b[38;5;241m=\u001b[39m\u001b[38;5;28mlist\u001b[39m(\u001b[38;5;28mrange\u001b[39m(min_rating, max_rating\u001b[38;5;241m+\u001b[39m\u001b[38;5;241m1\u001b[39m)))\n\u001b[1;32m      8\u001b[0m \u001b[38;5;66;03m# Set Title\u001b[39;00m\n",
      "\u001b[0;31mNameError\u001b[0m: name 'plt' is not defined"
     ]
    }
   ],
   "source": [
    "col = 'Category'\n",
    "\n",
    "# Create the figure and adjust its size\n",
    "fig = plt.fig(figsize=(12,4))\n",
    "\n",
    "ax = sns.countplot(data=df,x=col, order=list(range(min_rating, max_rating+1)))\n",
    "\n",
    "# Set Title\n",
    "ax.set_title(f'Count by {col}')\n",
    "\n",
    "plt.show()"
   ]
  },
  {
   "cell_type": "markdown",
   "id": "d42cf83b-ba2e-47f2-af27-701d6a856282",
   "metadata": {},
   "source": [
    "### Investigate distribution by Mechanism\n"
   ]
  },
  {
   "cell_type": "code",
   "execution_count": 2,
   "id": "312474fa-15ca-4640-bab7-f82619b311a2",
   "metadata": {
    "execution": {
     "iopub.execute_input": "2025-03-26T17:03:45.476457Z",
     "iopub.status.busy": "2025-03-26T17:03:45.475922Z",
     "iopub.status.idle": "2025-03-26T17:03:45.516764Z",
     "shell.execute_reply": "2025-03-26T17:03:45.515412Z",
     "shell.execute_reply.started": "2025-03-26T17:03:45.476408Z"
    }
   },
   "outputs": [
    {
     "ename": "NameError",
     "evalue": "name 'plt' is not defined",
     "output_type": "error",
     "traceback": [
      "\u001b[0;31m---------------------------------------------------------------------------\u001b[0m",
      "\u001b[0;31mNameError\u001b[0m                                 Traceback (most recent call last)",
      "Cell \u001b[0;32mIn[2], line 4\u001b[0m\n\u001b[1;32m      1\u001b[0m col \u001b[38;5;241m=\u001b[39m \u001b[38;5;124m'\u001b[39m\u001b[38;5;124mMechanism\u001b[39m\u001b[38;5;124m'\u001b[39m\n\u001b[1;32m      3\u001b[0m \u001b[38;5;66;03m# Create the figure and adjust its size\u001b[39;00m\n\u001b[0;32m----> 4\u001b[0m fig \u001b[38;5;241m=\u001b[39m \u001b[43mplt\u001b[49m\u001b[38;5;241m.\u001b[39mfig(figsize\u001b[38;5;241m=\u001b[39m(\u001b[38;5;241m12\u001b[39m,\u001b[38;5;241m4\u001b[39m))\n\u001b[1;32m      6\u001b[0m ax \u001b[38;5;241m=\u001b[39m sns\u001b[38;5;241m.\u001b[39mcountplot(data\u001b[38;5;241m=\u001b[39mdf,x\u001b[38;5;241m=\u001b[39mcol, order\u001b[38;5;241m=\u001b[39m\u001b[38;5;28mlist\u001b[39m(\u001b[38;5;28mrange\u001b[39m(min_rating, max_rating\u001b[38;5;241m+\u001b[39m\u001b[38;5;241m1\u001b[39m)))\n\u001b[1;32m      8\u001b[0m \u001b[38;5;66;03m# Set Title\u001b[39;00m\n",
      "\u001b[0;31mNameError\u001b[0m: name 'plt' is not defined"
     ]
    }
   ],
   "source": [
    "col = 'Mechanism'\n",
    "\n",
    "# Create the figure and adjust its size\n",
    "fig = plt.fig(figsize=(12,4))\n",
    "\n",
    "ax = sns.countplot(data=df,x=col, order=list(range(min_rating, max_rating+1)))\n",
    "\n",
    "# Set Title\n",
    "ax.set_title(f'Count by {col} category')\n",
    "\n",
    "plt.show()"
   ]
  },
  {
   "cell_type": "markdown",
   "id": "16148697-1279-4203-9837-05c23f1c9f12",
   "metadata": {},
   "source": [
    "### Investigate distribution by Awards\n"
   ]
  },
  {
   "cell_type": "code",
   "execution_count": 3,
   "id": "e6f0972a-f416-43f8-b1b2-c56e401043f2",
   "metadata": {
    "execution": {
     "iopub.execute_input": "2025-03-26T17:04:10.973395Z",
     "iopub.status.busy": "2025-03-26T17:04:10.970997Z",
     "iopub.status.idle": "2025-03-26T17:04:11.026845Z",
     "shell.execute_reply": "2025-03-26T17:04:11.025164Z",
     "shell.execute_reply.started": "2025-03-26T17:04:10.973256Z"
    }
   },
   "outputs": [
    {
     "ename": "NameError",
     "evalue": "name 'plt' is not defined",
     "output_type": "error",
     "traceback": [
      "\u001b[0;31m---------------------------------------------------------------------------\u001b[0m",
      "\u001b[0;31mNameError\u001b[0m                                 Traceback (most recent call last)",
      "Cell \u001b[0;32mIn[3], line 4\u001b[0m\n\u001b[1;32m      1\u001b[0m col \u001b[38;5;241m=\u001b[39m \u001b[38;5;124m'\u001b[39m\u001b[38;5;124mAwards\u001b[39m\u001b[38;5;124m'\u001b[39m\n\u001b[1;32m      3\u001b[0m \u001b[38;5;66;03m# Create the figure and adjust its size\u001b[39;00m\n\u001b[0;32m----> 4\u001b[0m fig \u001b[38;5;241m=\u001b[39m \u001b[43mplt\u001b[49m\u001b[38;5;241m.\u001b[39mfig(figsize\u001b[38;5;241m=\u001b[39m(\u001b[38;5;241m12\u001b[39m,\u001b[38;5;241m4\u001b[39m))\n\u001b[1;32m      6\u001b[0m ax \u001b[38;5;241m=\u001b[39m sns\u001b[38;5;241m.\u001b[39mcountplot(data\u001b[38;5;241m=\u001b[39mdf,x\u001b[38;5;241m=\u001b[39mcol, order\u001b[38;5;241m=\u001b[39m\u001b[38;5;28mlist\u001b[39m(\u001b[38;5;28mrange\u001b[39m(min_rating, max_rating\u001b[38;5;241m+\u001b[39m\u001b[38;5;241m1\u001b[39m)))\n\u001b[1;32m      8\u001b[0m \u001b[38;5;66;03m# Set Title\u001b[39;00m\n",
      "\u001b[0;31mNameError\u001b[0m: name 'plt' is not defined"
     ]
    }
   ],
   "source": [
    "col = 'Awards'\n",
    "\n",
    "# Create the figure and adjust its size\n",
    "fig = plt.fig(figsize=(12,4))\n",
    "\n",
    "ax = sns.countplot(data=df,x=col, order=list(range(min_rating, max_rating+1)))\n",
    "\n",
    "# Set Title\n",
    "ax.set_title(f'Count by {col} category')\n",
    "\n",
    "plt.show()"
   ]
  }
 ],
 "metadata": {
  "kernelspec": {
   "display_name": "graph",
   "language": "python",
   "name": "graph"
  },
  "language_info": {
   "codemirror_mode": {
    "name": "ipython",
    "version": 3
   },
   "file_extension": ".py",
   "mimetype": "text/x-python",
   "name": "python",
   "nbconvert_exporter": "python",
   "pygments_lexer": "ipython3",
   "version": "3.12.7"
  }
 },
 "nbformat": 4,
 "nbformat_minor": 5
}
