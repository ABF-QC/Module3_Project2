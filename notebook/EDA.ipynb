{
 "cells": [
  {
   "cell_type": "code",
   "execution_count": null,
   "id": "5fc636e0-dd6a-4074-8f46-af4d194965f0",
   "metadata": {},
   "outputs": [],
   "source": []
  },
  {
   "cell_type": "markdown",
   "id": "d82313c4-7f36-46d4-b949-ca7f655e205f",
   "metadata": {},
   "source": [
    "---\n",
    "# Data Analysis\n",
    "---\n",
    "In this notebook, it is the data analysis section.\n",
    "\n",
    "\n",
    "\n",
    "\n",
    "---\n",
    "## Results\n",
    "---\n",
    "\n",
    "\n",
    "\n",
    "\n",
    "---"
   ]
  },
  {
   "cell_type": "markdown",
   "id": "e9a3ae22-9101-4961-b81d-845ecdd66eca",
   "metadata": {},
   "source": [
    "### Importing necessary library"
   ]
  },
  {
   "cell_type": "code",
   "execution_count": 1,
   "id": "75730562-4273-4a37-b692-3347a22174e2",
   "metadata": {
    "execution": {
     "iopub.execute_input": "2025-03-05T13:56:22.903275Z",
     "iopub.status.busy": "2025-03-05T13:56:22.902289Z",
     "iopub.status.idle": "2025-03-05T13:56:25.789255Z",
     "shell.execute_reply": "2025-03-05T13:56:25.787793Z",
     "shell.execute_reply.started": "2025-03-05T13:56:22.903224Z"
    }
   },
   "outputs": [],
   "source": [
    "import pandas as pd\n",
    "import numpy as np\n",
    "\n",
    "import seaborn as sns\n",
    "import matplotlib.pyplot as plt\n"
   ]
  },
  {
   "cell_type": "markdown",
   "id": "4f8bf5d1-0900-4068-9fac-a6b4ff2443f3",
   "metadata": {},
   "source": [
    "### Read data file"
   ]
  },
  {
   "cell_type": "code",
   "execution_count": null,
   "id": "1ff82e6b-56e1-4487-982c-dbec65c17e00",
   "metadata": {},
   "outputs": [],
   "source": [
    "df = pd.read_excel('')\n",
    "df"
   ]
  },
  {
   "cell_type": "markdown",
   "id": "21a8d3b9-5cfa-4f84-a9ac-2bebd05f87d8",
   "metadata": {},
   "source": [
    "### Investigate distribution "
   ]
  },
  {
   "cell_type": "code",
   "execution_count": null,
   "id": "99cdc8d9-eb16-46ad-b328-f28817832f55",
   "metadata": {},
   "outputs": [],
   "source": []
  }
 ],
 "metadata": {
  "kernelspec": {
   "display_name": "graph",
   "language": "python",
   "name": "graph"
  },
  "language_info": {
   "codemirror_mode": {
    "name": "ipython",
    "version": 3
   },
   "file_extension": ".py",
   "mimetype": "text/x-python",
   "name": "python",
   "nbconvert_exporter": "python",
   "pygments_lexer": "ipython3",
   "version": "3.12.7"
  }
 },
 "nbformat": 4,
 "nbformat_minor": 5
}
