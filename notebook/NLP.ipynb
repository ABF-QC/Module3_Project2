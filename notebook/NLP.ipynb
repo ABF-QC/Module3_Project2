{
 "cells": [
  {
   "cell_type": "markdown",
   "id": "015ec7f5-d2d9-4308-8528-b348962a4252",
   "metadata": {},
   "source": [
    "---\n",
    "# NLP\n",
    "---\n"
   ]
  },
  {
   "cell_type": "markdown",
   "id": "9dc1228f-6215-4a42-a5f4-5bef31c2726a",
   "metadata": {},
   "source": [
    "### Importing necessary library"
   ]
  },
  {
   "cell_type": "code",
   "execution_count": 35,
   "id": "24431647-cd5b-4c84-ac48-ae57b0b5807a",
   "metadata": {
    "execution": {
     "iopub.execute_input": "2025-03-26T21:30:14.736054Z",
     "iopub.status.busy": "2025-03-26T21:30:14.735438Z",
     "iopub.status.idle": "2025-03-26T21:30:17.102754Z",
     "shell.execute_reply": "2025-03-26T21:30:17.100883Z",
     "shell.execute_reply.started": "2025-03-26T21:30:14.736004Z"
    }
   },
   "outputs": [],
   "source": [
    "import pandas as pd\n",
    "import numpy as np\n",
    "\n",
    "import requests\n",
    "import pandas as pd\n",
    "import json\n",
    "from transformers import AutoTokenizer, AutoModelForSequenceClassification\n",
    "import torch\n",
    "import seaborn as sns\n",
    "import matplotlib.pyplot as plt\n",
    "from sklearn.model_selection import train_test_split\n",
    "from sklearn.metrics import classification_report, accuracy_score\n",
    "\n",
    "from summarizer import Summarizer,TransformerSummarizer\n",
    "#from summarizer import Summarizer,TransformerSummarizer\n",
    "#from transformers import pipeline"
   ]
  },
  {
   "cell_type": "markdown",
   "id": "01a14b38-5051-4f1d-9c90-bcfeb37680cf",
   "metadata": {
    "execution": {
     "iopub.execute_input": "2025-03-01T22:00:33.436550Z",
     "iopub.status.busy": "2025-03-01T22:00:33.435980Z",
     "iopub.status.idle": "2025-03-01T22:00:33.448115Z",
     "shell.execute_reply": "2025-03-01T22:00:33.446039Z",
     "shell.execute_reply.started": "2025-03-01T22:00:33.436497Z"
    }
   },
   "source": [
    "---\n",
    "\n",
    "<center>\n",
    "    \n",
    "## Preparing data\n",
    "\n",
    "</center>\n",
    "\n",
    "---"
   ]
  },
  {
   "cell_type": "markdown",
   "id": "f9e48fb6-b16e-4cff-8d4f-ad61fdb11f17",
   "metadata": {},
   "source": [
    "### Read data file"
   ]
  },
  {
   "cell_type": "code",
   "execution_count": 4,
   "id": "c267b26c-94a9-47ed-bb06-f8abcd57adec",
   "metadata": {
    "execution": {
     "iopub.execute_input": "2025-03-26T19:54:14.722250Z",
     "iopub.status.busy": "2025-03-26T19:54:14.721688Z",
     "iopub.status.idle": "2025-03-26T19:54:14.806551Z",
     "shell.execute_reply": "2025-03-26T19:54:14.804536Z",
     "shell.execute_reply.started": "2025-03-26T19:54:14.722203Z"
    }
   },
   "outputs": [
    {
     "data": {
      "text/html": [
       "<div>\n",
       "<style scoped>\n",
       "    .dataframe tbody tr th:only-of-type {\n",
       "        vertical-align: middle;\n",
       "    }\n",
       "\n",
       "    .dataframe tbody tr th {\n",
       "        vertical-align: top;\n",
       "    }\n",
       "\n",
       "    .dataframe thead th {\n",
       "        text-align: right;\n",
       "    }\n",
       "</style>\n",
       "<table border=\"1\" class=\"dataframe\">\n",
       "  <thead>\n",
       "    <tr style=\"text-align: right;\">\n",
       "      <th></th>\n",
       "      <th>username</th>\n",
       "      <th>rating</th>\n",
       "      <th>comment</th>\n",
       "      <th>max_players</th>\n",
       "      <th>minplaytime</th>\n",
       "      <th>maxplaytime</th>\n",
       "      <th>age</th>\n",
       "      <th>ratings_avg</th>\n",
       "      <th>count_wanting</th>\n",
       "      <th>count_wishing</th>\n",
       "      <th>lang</th>\n",
       "    </tr>\n",
       "  </thead>\n",
       "  <tbody>\n",
       "    <tr>\n",
       "      <th>0</th>\n",
       "      <td>causticforever</td>\n",
       "      <td>NaN</td>\n",
       "      <td>Played prototype- will be an enjoyable way to ...</td>\n",
       "      <td>5</td>\n",
       "      <td>40</td>\n",
       "      <td>100</td>\n",
       "      <td>12</td>\n",
       "      <td>3.5</td>\n",
       "      <td>44</td>\n",
       "      <td>460</td>\n",
       "      <td>en</td>\n",
       "    </tr>\n",
       "    <tr>\n",
       "      <th>1</th>\n",
       "      <td>Corwin007</td>\n",
       "      <td>NaN</td>\n",
       "      <td>UPCOMING\\n\\nArk Nova lite?</td>\n",
       "      <td>5</td>\n",
       "      <td>40</td>\n",
       "      <td>100</td>\n",
       "      <td>12</td>\n",
       "      <td>3.5</td>\n",
       "      <td>44</td>\n",
       "      <td>460</td>\n",
       "      <td>en</td>\n",
       "    </tr>\n",
       "    <tr>\n",
       "      <th>2</th>\n",
       "      <td>IronTarkles</td>\n",
       "      <td>NaN</td>\n",
       "      <td>New game from ark nova designer</td>\n",
       "      <td>5</td>\n",
       "      <td>40</td>\n",
       "      <td>100</td>\n",
       "      <td>12</td>\n",
       "      <td>3.5</td>\n",
       "      <td>44</td>\n",
       "      <td>460</td>\n",
       "      <td>en</td>\n",
       "    </tr>\n",
       "    <tr>\n",
       "      <th>3</th>\n",
       "      <td>MarkyX</td>\n",
       "      <td>NaN</td>\n",
       "      <td>I'm very interested in this one. I like the co...</td>\n",
       "      <td>5</td>\n",
       "      <td>40</td>\n",
       "      <td>100</td>\n",
       "      <td>12</td>\n",
       "      <td>3.5</td>\n",
       "      <td>44</td>\n",
       "      <td>460</td>\n",
       "      <td>en</td>\n",
       "    </tr>\n",
       "    <tr>\n",
       "      <th>4</th>\n",
       "      <td>mikamikomi</td>\n",
       "      <td>1.0</td>\n",
       "      <td>3 artist yet still use stock photos? oh yeah</td>\n",
       "      <td>5</td>\n",
       "      <td>40</td>\n",
       "      <td>100</td>\n",
       "      <td>12</td>\n",
       "      <td>3.5</td>\n",
       "      <td>44</td>\n",
       "      <td>460</td>\n",
       "      <td>en</td>\n",
       "    </tr>\n",
       "    <tr>\n",
       "      <th>...</th>\n",
       "      <td>...</td>\n",
       "      <td>...</td>\n",
       "      <td>...</td>\n",
       "      <td>...</td>\n",
       "      <td>...</td>\n",
       "      <td>...</td>\n",
       "      <td>...</td>\n",
       "      <td>...</td>\n",
       "      <td>...</td>\n",
       "      <td>...</td>\n",
       "      <td>...</td>\n",
       "    </tr>\n",
       "    <tr>\n",
       "      <th>4158</th>\n",
       "      <td>Aenelruun</td>\n",
       "      <td>8.5</td>\n",
       "      <td>LM</td>\n",
       "      <td>4</td>\n",
       "      <td>40</td>\n",
       "      <td>80</td>\n",
       "      <td>10</td>\n",
       "      <td>8.00569</td>\n",
       "      <td>1422</td>\n",
       "      <td>21393</td>\n",
       "      <td>en</td>\n",
       "    </tr>\n",
       "    <tr>\n",
       "      <th>4159</th>\n",
       "      <td>Aeremia</td>\n",
       "      <td>6.0</td>\n",
       "      <td>Cute little game with amazing artwork and nice...</td>\n",
       "      <td>4</td>\n",
       "      <td>40</td>\n",
       "      <td>80</td>\n",
       "      <td>10</td>\n",
       "      <td>8.00569</td>\n",
       "      <td>1422</td>\n",
       "      <td>21393</td>\n",
       "      <td>en</td>\n",
       "    </tr>\n",
       "    <tr>\n",
       "      <th>4160</th>\n",
       "      <td>Aevey</td>\n",
       "      <td>9.0</td>\n",
       "      <td>Only had a few playthroughs so far, but very e...</td>\n",
       "      <td>4</td>\n",
       "      <td>40</td>\n",
       "      <td>80</td>\n",
       "      <td>10</td>\n",
       "      <td>8.00569</td>\n",
       "      <td>1422</td>\n",
       "      <td>21393</td>\n",
       "      <td>en</td>\n",
       "    </tr>\n",
       "    <tr>\n",
       "      <th>4161</th>\n",
       "      <td>afafard</td>\n",
       "      <td>7.0</td>\n",
       "      <td>Fairly simple and quick engine builder.\\nHas a...</td>\n",
       "      <td>4</td>\n",
       "      <td>40</td>\n",
       "      <td>80</td>\n",
       "      <td>10</td>\n",
       "      <td>8.00569</td>\n",
       "      <td>1422</td>\n",
       "      <td>21393</td>\n",
       "      <td>en</td>\n",
       "    </tr>\n",
       "    <tr>\n",
       "      <th>4162</th>\n",
       "      <td>Afff3</td>\n",
       "      <td>8.0</td>\n",
       "      <td>Fun strategy game terraforming mars -esque.\\nV...</td>\n",
       "      <td>4</td>\n",
       "      <td>40</td>\n",
       "      <td>80</td>\n",
       "      <td>10</td>\n",
       "      <td>8.00569</td>\n",
       "      <td>1422</td>\n",
       "      <td>21393</td>\n",
       "      <td>en</td>\n",
       "    </tr>\n",
       "  </tbody>\n",
       "</table>\n",
       "<p>4163 rows × 11 columns</p>\n",
       "</div>"
      ],
      "text/plain": [
       "            username rating  \\\n",
       "0     causticforever    NaN   \n",
       "1          Corwin007    NaN   \n",
       "2        IronTarkles    NaN   \n",
       "3             MarkyX    NaN   \n",
       "4         mikamikomi    1.0   \n",
       "...              ...    ...   \n",
       "4158       Aenelruun    8.5   \n",
       "4159         Aeremia    6.0   \n",
       "4160           Aevey    9.0   \n",
       "4161         afafard    7.0   \n",
       "4162           Afff3    8.0   \n",
       "\n",
       "                                                comment max_players  \\\n",
       "0     Played prototype- will be an enjoyable way to ...           5   \n",
       "1                            UPCOMING\\n\\nArk Nova lite?           5   \n",
       "2                       New game from ark nova designer           5   \n",
       "3     I'm very interested in this one. I like the co...           5   \n",
       "4          3 artist yet still use stock photos? oh yeah           5   \n",
       "...                                                 ...         ...   \n",
       "4158                                                 LM           4   \n",
       "4159  Cute little game with amazing artwork and nice...           4   \n",
       "4160  Only had a few playthroughs so far, but very e...           4   \n",
       "4161  Fairly simple and quick engine builder.\\nHas a...           4   \n",
       "4162  Fun strategy game terraforming mars -esque.\\nV...           4   \n",
       "\n",
       "     minplaytime maxplaytime age ratings_avg count_wanting count_wishing lang  \n",
       "0             40         100  12         3.5            44           460   en  \n",
       "1             40         100  12         3.5            44           460   en  \n",
       "2             40         100  12         3.5            44           460   en  \n",
       "3             40         100  12         3.5            44           460   en  \n",
       "4             40         100  12         3.5            44           460   en  \n",
       "...          ...         ...  ..         ...           ...           ...  ...  \n",
       "4158          40          80  10     8.00569          1422         21393   en  \n",
       "4159          40          80  10     8.00569          1422         21393   en  \n",
       "4160          40          80  10     8.00569          1422         21393   en  \n",
       "4161          40          80  10     8.00569          1422         21393   en  \n",
       "4162          40          80  10     8.00569          1422         21393   en  \n",
       "\n",
       "[4163 rows x 11 columns]"
      ]
     },
     "execution_count": 4,
     "metadata": {},
     "output_type": "execute_result"
    }
   ],
   "source": [
    "df = pd.read_csv('../data/games_comments_clean.csv')\n",
    "df"
   ]
  },
  {
   "cell_type": "markdown",
   "id": "012c89b8-8800-4317-8600-1a0b883d127f",
   "metadata": {
    "execution": {
     "iopub.execute_input": "2025-03-01T22:00:33.436550Z",
     "iopub.status.busy": "2025-03-01T22:00:33.435980Z",
     "iopub.status.idle": "2025-03-01T22:00:33.448115Z",
     "shell.execute_reply": "2025-03-01T22:00:33.446039Z",
     "shell.execute_reply.started": "2025-03-01T22:00:33.436497Z"
    }
   },
   "source": [
    "---\n",
    "\n",
    "<center>\n",
    "    \n",
    "## NLP - Sentiment\n",
    "\n",
    "</center>\n",
    "\n",
    "---"
   ]
  },
  {
   "cell_type": "markdown",
   "id": "2758dae1-eacc-4faa-abb7-fb76cd595a1c",
   "metadata": {},
   "source": [
    "### Create an instance of the model"
   ]
  },
  {
   "cell_type": "code",
   "execution_count": 5,
   "id": "ca8224c0-15f1-4b3e-b724-6ee6b030717a",
   "metadata": {
    "execution": {
     "iopub.execute_input": "2025-03-26T19:55:05.968279Z",
     "iopub.status.busy": "2025-03-26T19:55:05.967650Z",
     "iopub.status.idle": "2025-03-26T19:55:14.644479Z",
     "shell.execute_reply": "2025-03-26T19:55:14.642817Z",
     "shell.execute_reply.started": "2025-03-26T19:55:05.968226Z"
    }
   },
   "outputs": [
    {
     "name": "stderr",
     "output_type": "stream",
     "text": [
      "2025-03-26 15:55:09.108591: E external/local_xla/xla/stream_executor/cuda/cuda_fft.cc:467] Unable to register cuFFT factory: Attempting to register factory for plugin cuFFT when one has already been registered\n",
      "WARNING: All log messages before absl::InitializeLog() is called are written to STDERR\n",
      "E0000 00:00:1743018909.303955  436159 cuda_dnn.cc:8579] Unable to register cuDNN factory: Attempting to register factory for plugin cuDNN when one has already been registered\n",
      "E0000 00:00:1743018909.346138  436159 cuda_blas.cc:1407] Unable to register cuBLAS factory: Attempting to register factory for plugin cuBLAS when one has already been registered\n",
      "W0000 00:00:1743018909.876874  436159 computation_placer.cc:177] computation placer already registered. Please check linkage and avoid linking the same target more than once.\n",
      "W0000 00:00:1743018909.877277  436159 computation_placer.cc:177] computation placer already registered. Please check linkage and avoid linking the same target more than once.\n",
      "W0000 00:00:1743018909.877289  436159 computation_placer.cc:177] computation placer already registered. Please check linkage and avoid linking the same target more than once.\n",
      "W0000 00:00:1743018909.877298  436159 computation_placer.cc:177] computation placer already registered. Please check linkage and avoid linking the same target more than once.\n"
     ]
    }
   ],
   "source": [
    "tokenizer = AutoTokenizer.from_pretrained('nlptown/bert-base-multilingual-uncased-sentiment')\n",
    "\n",
    "model = AutoModelForSequenceClassification.from_pretrained('nlptown/bert-base-multilingual-uncased-sentiment')"
   ]
  },
  {
   "cell_type": "markdown",
   "id": "b55a7103-966f-4536-a103-80546ca531f2",
   "metadata": {},
   "source": [
    "### Encode the reviews and use model to predict sentiment for each review"
   ]
  },
  {
   "cell_type": "code",
   "execution_count": 14,
   "id": "6d0f7dac-42cf-4bd3-a2e1-89cbd3a945fa",
   "metadata": {
    "execution": {
     "iopub.execute_input": "2025-03-26T20:54:54.477038Z",
     "iopub.status.busy": "2025-03-26T20:54:54.476506Z",
     "iopub.status.idle": "2025-03-26T20:54:54.484821Z",
     "shell.execute_reply": "2025-03-26T20:54:54.483300Z",
     "shell.execute_reply.started": "2025-03-26T20:54:54.476994Z"
    }
   },
   "outputs": [],
   "source": [
    "# Creating function to encode each review and return the sentiment score from 1 to 5 \n",
    "def sentiment_score(review):\n",
    "    tokens = tokenizer.encode(review, return_tensors='pt')\n",
    "    result = model(tokens)\n",
    "    rating_1_5 = torch.argmax(result.logits).item() + 1\n",
    "    rating_1_10 = np.round(2 * rating_1_5, decimals=1)\n",
    "    return rating_1_10"
   ]
  },
  {
   "cell_type": "code",
   "execution_count": 15,
   "id": "c8c7b73b-897f-40d7-bebd-599558005f24",
   "metadata": {
    "execution": {
     "iopub.execute_input": "2025-03-26T20:54:56.786536Z",
     "iopub.status.busy": "2025-03-26T20:54:56.786003Z",
     "iopub.status.idle": "2025-03-26T21:15:28.722959Z",
     "shell.execute_reply": "2025-03-26T21:15:28.720902Z",
     "shell.execute_reply.started": "2025-03-26T20:54:56.786495Z"
    }
   },
   "outputs": [
    {
     "data": {
      "text/html": [
       "<div>\n",
       "<style scoped>\n",
       "    .dataframe tbody tr th:only-of-type {\n",
       "        vertical-align: middle;\n",
       "    }\n",
       "\n",
       "    .dataframe tbody tr th {\n",
       "        vertical-align: top;\n",
       "    }\n",
       "\n",
       "    .dataframe thead th {\n",
       "        text-align: right;\n",
       "    }\n",
       "</style>\n",
       "<table border=\"1\" class=\"dataframe\">\n",
       "  <thead>\n",
       "    <tr style=\"text-align: right;\">\n",
       "      <th></th>\n",
       "      <th>username</th>\n",
       "      <th>rating</th>\n",
       "      <th>comment</th>\n",
       "      <th>max_players</th>\n",
       "      <th>minplaytime</th>\n",
       "      <th>maxplaytime</th>\n",
       "      <th>age</th>\n",
       "      <th>ratings_avg</th>\n",
       "      <th>count_wanting</th>\n",
       "      <th>count_wishing</th>\n",
       "      <th>lang</th>\n",
       "      <th>Sentiment</th>\n",
       "    </tr>\n",
       "  </thead>\n",
       "  <tbody>\n",
       "    <tr>\n",
       "      <th>0</th>\n",
       "      <td>causticforever</td>\n",
       "      <td>NaN</td>\n",
       "      <td>Played prototype- will be an enjoyable way to ...</td>\n",
       "      <td>5</td>\n",
       "      <td>40</td>\n",
       "      <td>100</td>\n",
       "      <td>12</td>\n",
       "      <td>3.5</td>\n",
       "      <td>44</td>\n",
       "      <td>460</td>\n",
       "      <td>en</td>\n",
       "      <td>8</td>\n",
       "    </tr>\n",
       "    <tr>\n",
       "      <th>1</th>\n",
       "      <td>Corwin007</td>\n",
       "      <td>NaN</td>\n",
       "      <td>UPCOMING\\n\\nArk Nova lite?</td>\n",
       "      <td>5</td>\n",
       "      <td>40</td>\n",
       "      <td>100</td>\n",
       "      <td>12</td>\n",
       "      <td>3.5</td>\n",
       "      <td>44</td>\n",
       "      <td>460</td>\n",
       "      <td>en</td>\n",
       "      <td>6</td>\n",
       "    </tr>\n",
       "    <tr>\n",
       "      <th>2</th>\n",
       "      <td>IronTarkles</td>\n",
       "      <td>NaN</td>\n",
       "      <td>New game from ark nova designer</td>\n",
       "      <td>5</td>\n",
       "      <td>40</td>\n",
       "      <td>100</td>\n",
       "      <td>12</td>\n",
       "      <td>3.5</td>\n",
       "      <td>44</td>\n",
       "      <td>460</td>\n",
       "      <td>en</td>\n",
       "      <td>10</td>\n",
       "    </tr>\n",
       "    <tr>\n",
       "      <th>3</th>\n",
       "      <td>MarkyX</td>\n",
       "      <td>NaN</td>\n",
       "      <td>I'm very interested in this one. I like the co...</td>\n",
       "      <td>5</td>\n",
       "      <td>40</td>\n",
       "      <td>100</td>\n",
       "      <td>12</td>\n",
       "      <td>3.5</td>\n",
       "      <td>44</td>\n",
       "      <td>460</td>\n",
       "      <td>en</td>\n",
       "      <td>8</td>\n",
       "    </tr>\n",
       "    <tr>\n",
       "      <th>4</th>\n",
       "      <td>mikamikomi</td>\n",
       "      <td>1.0</td>\n",
       "      <td>3 artist yet still use stock photos? oh yeah</td>\n",
       "      <td>5</td>\n",
       "      <td>40</td>\n",
       "      <td>100</td>\n",
       "      <td>12</td>\n",
       "      <td>3.5</td>\n",
       "      <td>44</td>\n",
       "      <td>460</td>\n",
       "      <td>en</td>\n",
       "      <td>6</td>\n",
       "    </tr>\n",
       "    <tr>\n",
       "      <th>...</th>\n",
       "      <td>...</td>\n",
       "      <td>...</td>\n",
       "      <td>...</td>\n",
       "      <td>...</td>\n",
       "      <td>...</td>\n",
       "      <td>...</td>\n",
       "      <td>...</td>\n",
       "      <td>...</td>\n",
       "      <td>...</td>\n",
       "      <td>...</td>\n",
       "      <td>...</td>\n",
       "      <td>...</td>\n",
       "    </tr>\n",
       "    <tr>\n",
       "      <th>4158</th>\n",
       "      <td>Aenelruun</td>\n",
       "      <td>8.5</td>\n",
       "      <td>LM</td>\n",
       "      <td>4</td>\n",
       "      <td>40</td>\n",
       "      <td>80</td>\n",
       "      <td>10</td>\n",
       "      <td>8.00569</td>\n",
       "      <td>1422</td>\n",
       "      <td>21393</td>\n",
       "      <td>en</td>\n",
       "      <td>6</td>\n",
       "    </tr>\n",
       "    <tr>\n",
       "      <th>4159</th>\n",
       "      <td>Aeremia</td>\n",
       "      <td>6.0</td>\n",
       "      <td>Cute little game with amazing artwork and nice...</td>\n",
       "      <td>4</td>\n",
       "      <td>40</td>\n",
       "      <td>80</td>\n",
       "      <td>10</td>\n",
       "      <td>8.00569</td>\n",
       "      <td>1422</td>\n",
       "      <td>21393</td>\n",
       "      <td>en</td>\n",
       "      <td>6</td>\n",
       "    </tr>\n",
       "    <tr>\n",
       "      <th>4160</th>\n",
       "      <td>Aevey</td>\n",
       "      <td>9.0</td>\n",
       "      <td>Only had a few playthroughs so far, but very e...</td>\n",
       "      <td>4</td>\n",
       "      <td>40</td>\n",
       "      <td>80</td>\n",
       "      <td>10</td>\n",
       "      <td>8.00569</td>\n",
       "      <td>1422</td>\n",
       "      <td>21393</td>\n",
       "      <td>en</td>\n",
       "      <td>8</td>\n",
       "    </tr>\n",
       "    <tr>\n",
       "      <th>4161</th>\n",
       "      <td>afafard</td>\n",
       "      <td>7.0</td>\n",
       "      <td>Fairly simple and quick engine builder.\\nHas a...</td>\n",
       "      <td>4</td>\n",
       "      <td>40</td>\n",
       "      <td>80</td>\n",
       "      <td>10</td>\n",
       "      <td>8.00569</td>\n",
       "      <td>1422</td>\n",
       "      <td>21393</td>\n",
       "      <td>en</td>\n",
       "      <td>8</td>\n",
       "    </tr>\n",
       "    <tr>\n",
       "      <th>4162</th>\n",
       "      <td>Afff3</td>\n",
       "      <td>8.0</td>\n",
       "      <td>Fun strategy game terraforming mars -esque.\\nV...</td>\n",
       "      <td>4</td>\n",
       "      <td>40</td>\n",
       "      <td>80</td>\n",
       "      <td>10</td>\n",
       "      <td>8.00569</td>\n",
       "      <td>1422</td>\n",
       "      <td>21393</td>\n",
       "      <td>en</td>\n",
       "      <td>8</td>\n",
       "    </tr>\n",
       "  </tbody>\n",
       "</table>\n",
       "<p>4163 rows × 12 columns</p>\n",
       "</div>"
      ],
      "text/plain": [
       "            username rating  \\\n",
       "0     causticforever    NaN   \n",
       "1          Corwin007    NaN   \n",
       "2        IronTarkles    NaN   \n",
       "3             MarkyX    NaN   \n",
       "4         mikamikomi    1.0   \n",
       "...              ...    ...   \n",
       "4158       Aenelruun    8.5   \n",
       "4159         Aeremia    6.0   \n",
       "4160           Aevey    9.0   \n",
       "4161         afafard    7.0   \n",
       "4162           Afff3    8.0   \n",
       "\n",
       "                                                comment max_players  \\\n",
       "0     Played prototype- will be an enjoyable way to ...           5   \n",
       "1                            UPCOMING\\n\\nArk Nova lite?           5   \n",
       "2                       New game from ark nova designer           5   \n",
       "3     I'm very interested in this one. I like the co...           5   \n",
       "4          3 artist yet still use stock photos? oh yeah           5   \n",
       "...                                                 ...         ...   \n",
       "4158                                                 LM           4   \n",
       "4159  Cute little game with amazing artwork and nice...           4   \n",
       "4160  Only had a few playthroughs so far, but very e...           4   \n",
       "4161  Fairly simple and quick engine builder.\\nHas a...           4   \n",
       "4162  Fun strategy game terraforming mars -esque.\\nV...           4   \n",
       "\n",
       "     minplaytime maxplaytime age ratings_avg count_wanting count_wishing lang  \\\n",
       "0             40         100  12         3.5            44           460   en   \n",
       "1             40         100  12         3.5            44           460   en   \n",
       "2             40         100  12         3.5            44           460   en   \n",
       "3             40         100  12         3.5            44           460   en   \n",
       "4             40         100  12         3.5            44           460   en   \n",
       "...          ...         ...  ..         ...           ...           ...  ...   \n",
       "4158          40          80  10     8.00569          1422         21393   en   \n",
       "4159          40          80  10     8.00569          1422         21393   en   \n",
       "4160          40          80  10     8.00569          1422         21393   en   \n",
       "4161          40          80  10     8.00569          1422         21393   en   \n",
       "4162          40          80  10     8.00569          1422         21393   en   \n",
       "\n",
       "      Sentiment  \n",
       "0             8  \n",
       "1             6  \n",
       "2            10  \n",
       "3             8  \n",
       "4             6  \n",
       "...         ...  \n",
       "4158          6  \n",
       "4159          6  \n",
       "4160          8  \n",
       "4161          8  \n",
       "4162          8  \n",
       "\n",
       "[4163 rows x 12 columns]"
      ]
     },
     "execution_count": 15,
     "metadata": {},
     "output_type": "execute_result"
    }
   ],
   "source": [
    "# Add Sentiment column that contains the sentiment prediction of the model based on the review\n",
    "df['Sentiment'] = df['comment'].apply(lambda x: sentiment_score(x[:512]))\n",
    "df"
   ]
  },
  {
   "cell_type": "markdown",
   "id": "93627c3e-aca4-4e07-9847-b44688671f79",
   "metadata": {
    "execution": {
     "iopub.execute_input": "2025-03-01T22:00:33.436550Z",
     "iopub.status.busy": "2025-03-01T22:00:33.435980Z",
     "iopub.status.idle": "2025-03-01T22:00:33.448115Z",
     "shell.execute_reply": "2025-03-01T22:00:33.446039Z",
     "shell.execute_reply.started": "2025-03-01T22:00:33.436497Z"
    }
   },
   "source": [
    "---\n",
    "\n",
    "<center>\n",
    "    \n",
    "## NLP - Summarization\n",
    "\n",
    "</center>\n",
    "\n",
    "---"
   ]
  },
  {
   "cell_type": "markdown",
   "id": "ab33fc03-1413-4468-ae56-ba4c2c9c1f3e",
   "metadata": {},
   "source": [
    "**BERT**"
   ]
  },
  {
   "cell_type": "code",
   "execution_count": 36,
   "id": "bb6780fc-4dbc-405d-bb64-a4e73ad4b264",
   "metadata": {
    "execution": {
     "iopub.execute_input": "2025-03-26T21:30:23.414224Z",
     "iopub.status.busy": "2025-03-26T21:30:23.413286Z",
     "iopub.status.idle": "2025-03-26T21:32:22.573666Z",
     "shell.execute_reply": "2025-03-26T21:32:22.571618Z",
     "shell.execute_reply.started": "2025-03-26T21:30:23.414168Z"
    }
   },
   "outputs": [
    {
     "data": {
      "application/vnd.jupyter.widget-view+json": {
       "model_id": "b987f99dec514031bae0ad31bc753161",
       "version_major": 2,
       "version_minor": 0
      },
      "text/plain": [
       "config.json:   0%|          | 0.00/571 [00:00<?, ?B/s]"
      ]
     },
     "metadata": {},
     "output_type": "display_data"
    },
    {
     "data": {
      "application/vnd.jupyter.widget-view+json": {
       "model_id": "75bdde04e90248a2b5032e0bbe5f8b67",
       "version_major": 2,
       "version_minor": 0
      },
      "text/plain": [
       "model.safetensors:   0%|          | 0.00/1.34G [00:00<?, ?B/s]"
      ]
     },
     "metadata": {},
     "output_type": "display_data"
    },
    {
     "data": {
      "application/vnd.jupyter.widget-view+json": {
       "model_id": "2de9253ccad64cd3b0242c02ad5f42d3",
       "version_major": 2,
       "version_minor": 0
      },
      "text/plain": [
       "tokenizer_config.json:   0%|          | 0.00/48.0 [00:00<?, ?B/s]"
      ]
     },
     "metadata": {},
     "output_type": "display_data"
    },
    {
     "data": {
      "application/vnd.jupyter.widget-view+json": {
       "model_id": "d3fd36eda0194f45bd1bbc85129a858c",
       "version_major": 2,
       "version_minor": 0
      },
      "text/plain": [
       "vocab.txt:   0%|          | 0.00/232k [00:00<?, ?B/s]"
      ]
     },
     "metadata": {},
     "output_type": "display_data"
    },
    {
     "data": {
      "application/vnd.jupyter.widget-view+json": {
       "model_id": "e241c57ab1804890b59220978e88465a",
       "version_major": 2,
       "version_minor": 0
      },
      "text/plain": [
       "tokenizer.json:   0%|          | 0.00/466k [00:00<?, ?B/s]"
      ]
     },
     "metadata": {},
     "output_type": "display_data"
    }
   ],
   "source": [
    "bert_model = Summarizer()"
   ]
  },
  {
   "cell_type": "code",
   "execution_count": 37,
   "id": "460d478a-6889-441a-ad9a-a1d953faa4ce",
   "metadata": {
    "execution": {
     "iopub.execute_input": "2025-03-26T21:32:59.749896Z",
     "iopub.status.busy": "2025-03-26T21:32:59.749255Z",
     "iopub.status.idle": "2025-03-26T21:32:59.760694Z",
     "shell.execute_reply": "2025-03-26T21:32:59.757237Z",
     "shell.execute_reply.started": "2025-03-26T21:32:59.749852Z"
    }
   },
   "outputs": [],
   "source": [
    "def comment2summaryBERT(comment):\n",
    "    summary = ''.join(bert_model(comment, num_sentences=1))\n",
    "    return summary"
   ]
  },
  {
   "cell_type": "code",
   "execution_count": null,
   "id": "fa03de13-2a75-41c5-8d15-cb5c693656f1",
   "metadata": {
    "execution": {
     "iopub.execute_input": "2025-03-26T21:33:13.335306Z",
     "iopub.status.busy": "2025-03-26T21:33:13.334773Z"
    }
   },
   "outputs": [],
   "source": [
    "# Add Summary column that contains the summary of the comment based on NLP summarization\n",
    "df['Summary_BERT'] = df['comment'].apply(lambda x: comment2summaryBERT(x))\n",
    "df"
   ]
  },
  {
   "cell_type": "markdown",
   "id": "e8c7f01f-6af0-485c-b78a-6ce857bf7595",
   "metadata": {},
   "source": [
    "**BART**"
   ]
  },
  {
   "cell_type": "code",
   "execution_count": null,
   "id": "b396c883-4ca8-43e4-a6a5-f154efd96768",
   "metadata": {},
   "outputs": [],
   "source": [
    "summarizer = pipeline(\"summarization\", model=\"facebook/bart-large-cnn\")"
   ]
  },
  {
   "cell_type": "code",
   "execution_count": null,
   "id": "154da045-2be7-4c23-a69e-2c5eb92820a4",
   "metadata": {},
   "outputs": [],
   "source": [
    "def comment2summaryBART(comment):\n",
    "    summary = summarizer(comment, max_length=50, min_length=1, do_sample=False)\n",
    "    return summary"
   ]
  },
  {
   "cell_type": "code",
   "execution_count": null,
   "id": "89eff2f7-2d31-4e50-b81a-66198294d4df",
   "metadata": {},
   "outputs": [],
   "source": [
    "df['Summary_BERT'] = df['comment'].apply(lambda x: comment2summaryBART(x)))\n",
    "df"
   ]
  },
  {
   "cell_type": "markdown",
   "id": "57ca1b30-149d-4868-899c-f183b3052e1a",
   "metadata": {
    "execution": {
     "iopub.execute_input": "2025-03-01T22:00:33.436550Z",
     "iopub.status.busy": "2025-03-01T22:00:33.435980Z",
     "iopub.status.idle": "2025-03-01T22:00:33.448115Z",
     "shell.execute_reply": "2025-03-01T22:00:33.446039Z",
     "shell.execute_reply.started": "2025-03-01T22:00:33.436497Z"
    }
   },
   "source": [
    "---\n",
    "\n",
    "<center>\n",
    "    \n",
    "## Saving data to file\n",
    "\n",
    "</center>\n",
    "\n",
    "---"
   ]
  },
  {
   "cell_type": "code",
   "execution_count": 16,
   "id": "8867d8ac-2fae-456f-a07f-7b0411b3d181",
   "metadata": {
    "execution": {
     "iopub.execute_input": "2025-03-26T21:17:32.312981Z",
     "iopub.status.busy": "2025-03-26T21:17:32.310932Z",
     "iopub.status.idle": "2025-03-26T21:17:32.422544Z",
     "shell.execute_reply": "2025-03-26T21:17:32.421392Z",
     "shell.execute_reply.started": "2025-03-26T21:17:32.312904Z"
    }
   },
   "outputs": [],
   "source": [
    "df.to_csv('../data/games_comments_sentiment_summarized.csv', index=False)"
   ]
  },
  {
   "cell_type": "markdown",
   "id": "431f2dc0-fa71-4d33-99f7-a97437fd898c",
   "metadata": {
    "execution": {
     "iopub.execute_input": "2025-03-01T22:00:33.436550Z",
     "iopub.status.busy": "2025-03-01T22:00:33.435980Z",
     "iopub.status.idle": "2025-03-01T22:00:33.448115Z",
     "shell.execute_reply": "2025-03-01T22:00:33.446039Z",
     "shell.execute_reply.started": "2025-03-01T22:00:33.436497Z"
    }
   },
   "source": [
    "---\n",
    "\n",
    "<center>\n",
    "    \n",
    "## Evaluate Sentiment rating vs true rating\n",
    "\n",
    "</center>\n",
    "\n",
    "---"
   ]
  },
  {
   "cell_type": "code",
   "execution_count": null,
   "id": "5229f344-e77c-4a2a-9c6e-0c27fd7963dc",
   "metadata": {
    "execution": {
     "iopub.execute_input": "2025-03-26T21:17:53.326810Z",
     "iopub.status.busy": "2025-03-26T21:17:53.326213Z",
     "iopub.status.idle": "2025-03-26T21:17:54.015453Z",
     "shell.execute_reply": "2025-03-26T21:17:54.013317Z",
     "shell.execute_reply.started": "2025-03-26T21:17:53.326758Z"
    }
   },
   "outputs": [],
   "source": [
    "tmp = df.dropna(subset=['rating'])"
   ]
  },
  {
   "cell_type": "code",
   "execution_count": 19,
   "id": "dd53e378-4fa3-4b79-8a28-d9f5387ca14e",
   "metadata": {
    "execution": {
     "iopub.execute_input": "2025-03-26T21:20:31.066664Z",
     "iopub.status.busy": "2025-03-26T21:20:31.065239Z",
     "iopub.status.idle": "2025-03-26T21:20:31.080559Z",
     "shell.execute_reply": "2025-03-26T21:20:31.078143Z",
     "shell.execute_reply.started": "2025-03-26T21:20:31.066584Z"
    }
   },
   "outputs": [
    {
     "data": {
      "text/plain": [
       "array(['1.0', '9.0', 'rating', '8.0', '8.5', '7.0', '4.0', '7.5', '5.5',\n",
       "       '7.3', '10.0', '5.0', '6.0', '6.5', '8.4', '8.2', '9.5', '9.2',\n",
       "       '9.3', '8.8', '7.8', '3.0', '6.8', '7.9', '7.1', '6.4', '8.36',\n",
       "       '7.7', '8.6', '9.4', '9.6', '6.05', '3.7', '2.0', '6.6', '7.75',\n",
       "       '7.2', '3.5', '8.7', '8.75', '8.3', '6.3', '4.5', '9.75', '7.6',\n",
       "       '2.5', '9.21', '7.25', '4.9', '9.9', '8.79', '8.9', '9.1', '8.64',\n",
       "       '5.9', '6.57', '7.4', '7.84', '9.25', '8.25', '4.8', '9.45',\n",
       "       '8.33'], dtype=object)"
      ]
     },
     "execution_count": 19,
     "metadata": {},
     "output_type": "execute_result"
    }
   ],
   "source": [
    "tmp['rating'].unique()"
   ]
  },
  {
   "cell_type": "code",
   "execution_count": 22,
   "id": "80062249-874b-47ab-a6cb-ec16e64f7a64",
   "metadata": {
    "execution": {
     "iopub.execute_input": "2025-03-26T21:22:26.915317Z",
     "iopub.status.busy": "2025-03-26T21:22:26.914707Z",
     "iopub.status.idle": "2025-03-26T21:22:26.924081Z",
     "shell.execute_reply": "2025-03-26T21:22:26.923087Z",
     "shell.execute_reply.started": "2025-03-26T21:22:26.915270Z"
    }
   },
   "outputs": [],
   "source": [
    "tmp = tmp[tmp['rating'] != 'rating']"
   ]
  },
  {
   "cell_type": "code",
   "execution_count": 23,
   "id": "e1c8e6a2-7c32-4299-b4d3-f1481278f509",
   "metadata": {
    "execution": {
     "iopub.execute_input": "2025-03-26T21:22:31.299493Z",
     "iopub.status.busy": "2025-03-26T21:22:31.298919Z",
     "iopub.status.idle": "2025-03-26T21:22:31.317408Z",
     "shell.execute_reply": "2025-03-26T21:22:31.315984Z",
     "shell.execute_reply.started": "2025-03-26T21:22:31.299445Z"
    }
   },
   "outputs": [
    {
     "name": "stderr",
     "output_type": "stream",
     "text": [
      "/tmp/ipykernel_436159/4230414817.py:1: SettingWithCopyWarning: \n",
      "A value is trying to be set on a copy of a slice from a DataFrame.\n",
      "Try using .loc[row_indexer,col_indexer] = value instead\n",
      "\n",
      "See the caveats in the documentation: https://pandas.pydata.org/pandas-docs/stable/user_guide/indexing.html#returning-a-view-versus-a-copy\n",
      "  tmp['rating'] = tmp['rating'].astype(float)\n"
     ]
    }
   ],
   "source": [
    "tmp['rating'] = tmp['rating'].astype(float)"
   ]
  },
  {
   "cell_type": "code",
   "execution_count": 25,
   "id": "1cd3be1d-5493-4c0f-8d88-350c97ce4a16",
   "metadata": {
    "execution": {
     "iopub.execute_input": "2025-03-26T21:23:04.873351Z",
     "iopub.status.busy": "2025-03-26T21:23:04.872819Z",
     "iopub.status.idle": "2025-03-26T21:23:04.887559Z",
     "shell.execute_reply": "2025-03-26T21:23:04.886127Z",
     "shell.execute_reply.started": "2025-03-26T21:23:04.873311Z"
    }
   },
   "outputs": [
    {
     "data": {
      "text/plain": [
       "array([ 1.  ,  9.  ,  8.  ,  8.5 ,  7.  ,  4.  ,  7.5 ,  5.5 ,  7.3 ,\n",
       "       10.  ,  5.  ,  6.  ,  6.5 ,  8.4 ,  8.2 ,  9.5 ,  9.2 ,  9.3 ,\n",
       "        8.8 ,  7.8 ,  3.  ,  6.8 ,  7.9 ,  7.1 ,  6.4 ,  8.36,  7.7 ,\n",
       "        8.6 ,  9.4 ,  9.6 ,  6.05,  3.7 ,  2.  ,  6.6 ,  7.75,  7.2 ,\n",
       "        3.5 ,  8.7 ,  8.75,  8.3 ,  6.3 ,  4.5 ,  9.75,  7.6 ,  2.5 ,\n",
       "        9.21,  7.25,  4.9 ,  9.9 ,  8.79,  8.9 ,  9.1 ,  8.64,  5.9 ,\n",
       "        6.57,  7.4 ,  7.84,  9.25,  8.25,  4.8 ,  9.45,  8.33])"
      ]
     },
     "execution_count": 25,
     "metadata": {},
     "output_type": "execute_result"
    }
   ],
   "source": [
    "tmp['rating'].unique()"
   ]
  },
  {
   "cell_type": "code",
   "execution_count": 27,
   "id": "d6c6f6fc-843c-4bc7-91c2-e42a7d5ea14d",
   "metadata": {
    "execution": {
     "iopub.execute_input": "2025-03-26T21:23:31.626506Z",
     "iopub.status.busy": "2025-03-26T21:23:31.625943Z",
     "iopub.status.idle": "2025-03-26T21:23:31.644213Z",
     "shell.execute_reply": "2025-03-26T21:23:31.641745Z",
     "shell.execute_reply.started": "2025-03-26T21:23:31.626450Z"
    }
   },
   "outputs": [
    {
     "data": {
      "text/plain": [
       "array([ 6,  8, 10,  2,  4])"
      ]
     },
     "execution_count": 27,
     "metadata": {},
     "output_type": "execute_result"
    }
   ],
   "source": [
    "tmp['Sentiment'].unique()"
   ]
  },
  {
   "cell_type": "code",
   "execution_count": 24,
   "id": "99d77e70-5478-4474-a58b-982cfc201a45",
   "metadata": {
    "execution": {
     "iopub.execute_input": "2025-03-26T21:22:40.585083Z",
     "iopub.status.busy": "2025-03-26T21:22:40.584553Z",
     "iopub.status.idle": "2025-03-26T21:22:40.700100Z",
     "shell.execute_reply": "2025-03-26T21:22:40.698638Z",
     "shell.execute_reply.started": "2025-03-26T21:22:40.585044Z"
    }
   },
   "outputs": [
    {
     "ename": "ValueError",
     "evalue": "Classification metrics can't handle a mix of continuous and multiclass targets",
     "output_type": "error",
     "traceback": [
      "\u001b[0;31m---------------------------------------------------------------------------\u001b[0m",
      "\u001b[0;31mValueError\u001b[0m                                Traceback (most recent call last)",
      "Cell \u001b[0;32mIn[24], line 1\u001b[0m\n\u001b[0;32m----> 1\u001b[0m \u001b[38;5;28mprint\u001b[39m(\u001b[38;5;124m\"\u001b[39m\u001b[38;5;124mClassification Report:\u001b[39m\u001b[38;5;130;01m\\n\u001b[39;00m\u001b[38;5;124m\"\u001b[39m, \u001b[43mclassification_report\u001b[49m\u001b[43m(\u001b[49m\u001b[43mtmp\u001b[49m\u001b[43m[\u001b[49m\u001b[38;5;124;43m'\u001b[39;49m\u001b[38;5;124;43mrating\u001b[39;49m\u001b[38;5;124;43m'\u001b[39;49m\u001b[43m]\u001b[49m\u001b[43m,\u001b[49m\u001b[43m \u001b[49m\u001b[43mtmp\u001b[49m\u001b[43m[\u001b[49m\u001b[38;5;124;43m'\u001b[39;49m\u001b[38;5;124;43mSentiment\u001b[39;49m\u001b[38;5;124;43m'\u001b[39;49m\u001b[43m]\u001b[49m\u001b[43m)\u001b[49m)\n",
      "File \u001b[0;32m~/Dev/graph/lib/python3.12/site-packages/sklearn/utils/_param_validation.py:216\u001b[0m, in \u001b[0;36mvalidate_params.<locals>.decorator.<locals>.wrapper\u001b[0;34m(*args, **kwargs)\u001b[0m\n\u001b[1;32m    210\u001b[0m \u001b[38;5;28;01mtry\u001b[39;00m:\n\u001b[1;32m    211\u001b[0m     \u001b[38;5;28;01mwith\u001b[39;00m config_context(\n\u001b[1;32m    212\u001b[0m         skip_parameter_validation\u001b[38;5;241m=\u001b[39m(\n\u001b[1;32m    213\u001b[0m             prefer_skip_nested_validation \u001b[38;5;129;01mor\u001b[39;00m global_skip_validation\n\u001b[1;32m    214\u001b[0m         )\n\u001b[1;32m    215\u001b[0m     ):\n\u001b[0;32m--> 216\u001b[0m         \u001b[38;5;28;01mreturn\u001b[39;00m \u001b[43mfunc\u001b[49m\u001b[43m(\u001b[49m\u001b[38;5;241;43m*\u001b[39;49m\u001b[43margs\u001b[49m\u001b[43m,\u001b[49m\u001b[43m \u001b[49m\u001b[38;5;241;43m*\u001b[39;49m\u001b[38;5;241;43m*\u001b[39;49m\u001b[43mkwargs\u001b[49m\u001b[43m)\u001b[49m\n\u001b[1;32m    217\u001b[0m \u001b[38;5;28;01mexcept\u001b[39;00m InvalidParameterError \u001b[38;5;28;01mas\u001b[39;00m e:\n\u001b[1;32m    218\u001b[0m     \u001b[38;5;66;03m# When the function is just a wrapper around an estimator, we allow\u001b[39;00m\n\u001b[1;32m    219\u001b[0m     \u001b[38;5;66;03m# the function to delegate validation to the estimator, but we replace\u001b[39;00m\n\u001b[1;32m    220\u001b[0m     \u001b[38;5;66;03m# the name of the estimator by the name of the function in the error\u001b[39;00m\n\u001b[1;32m    221\u001b[0m     \u001b[38;5;66;03m# message to avoid confusion.\u001b[39;00m\n\u001b[1;32m    222\u001b[0m     msg \u001b[38;5;241m=\u001b[39m re\u001b[38;5;241m.\u001b[39msub(\n\u001b[1;32m    223\u001b[0m         \u001b[38;5;124mr\u001b[39m\u001b[38;5;124m\"\u001b[39m\u001b[38;5;124mparameter of \u001b[39m\u001b[38;5;124m\\\u001b[39m\u001b[38;5;124mw+ must be\u001b[39m\u001b[38;5;124m\"\u001b[39m,\n\u001b[1;32m    224\u001b[0m         \u001b[38;5;124mf\u001b[39m\u001b[38;5;124m\"\u001b[39m\u001b[38;5;124mparameter of \u001b[39m\u001b[38;5;132;01m{\u001b[39;00mfunc\u001b[38;5;241m.\u001b[39m\u001b[38;5;18m__qualname__\u001b[39m\u001b[38;5;132;01m}\u001b[39;00m\u001b[38;5;124m must be\u001b[39m\u001b[38;5;124m\"\u001b[39m,\n\u001b[1;32m    225\u001b[0m         \u001b[38;5;28mstr\u001b[39m(e),\n\u001b[1;32m    226\u001b[0m     )\n",
      "File \u001b[0;32m~/Dev/graph/lib/python3.12/site-packages/sklearn/metrics/_classification.py:2671\u001b[0m, in \u001b[0;36mclassification_report\u001b[0;34m(y_true, y_pred, labels, target_names, sample_weight, digits, output_dict, zero_division)\u001b[0m\n\u001b[1;32m   2563\u001b[0m \u001b[38;5;250m\u001b[39m\u001b[38;5;124;03m\"\"\"Build a text report showing the main classification metrics.\u001b[39;00m\n\u001b[1;32m   2564\u001b[0m \n\u001b[1;32m   2565\u001b[0m \u001b[38;5;124;03mRead more in the :ref:`User Guide <classification_report>`.\u001b[39;00m\n\u001b[0;32m   (...)\u001b[0m\n\u001b[1;32m   2667\u001b[0m \u001b[38;5;124;03m<BLANKLINE>\u001b[39;00m\n\u001b[1;32m   2668\u001b[0m \u001b[38;5;124;03m\"\"\"\u001b[39;00m\n\u001b[1;32m   2670\u001b[0m y_true, y_pred \u001b[38;5;241m=\u001b[39m attach_unique(y_true, y_pred)\n\u001b[0;32m-> 2671\u001b[0m y_type, y_true, y_pred \u001b[38;5;241m=\u001b[39m \u001b[43m_check_targets\u001b[49m\u001b[43m(\u001b[49m\u001b[43my_true\u001b[49m\u001b[43m,\u001b[49m\u001b[43m \u001b[49m\u001b[43my_pred\u001b[49m\u001b[43m)\u001b[49m\n\u001b[1;32m   2673\u001b[0m \u001b[38;5;28;01mif\u001b[39;00m labels \u001b[38;5;129;01mis\u001b[39;00m \u001b[38;5;28;01mNone\u001b[39;00m:\n\u001b[1;32m   2674\u001b[0m     labels \u001b[38;5;241m=\u001b[39m unique_labels(y_true, y_pred)\n",
      "File \u001b[0;32m~/Dev/graph/lib/python3.12/site-packages/sklearn/metrics/_classification.py:107\u001b[0m, in \u001b[0;36m_check_targets\u001b[0;34m(y_true, y_pred)\u001b[0m\n\u001b[1;32m    104\u001b[0m     y_type \u001b[38;5;241m=\u001b[39m {\u001b[38;5;124m\"\u001b[39m\u001b[38;5;124mmulticlass\u001b[39m\u001b[38;5;124m\"\u001b[39m}\n\u001b[1;32m    106\u001b[0m \u001b[38;5;28;01mif\u001b[39;00m \u001b[38;5;28mlen\u001b[39m(y_type) \u001b[38;5;241m>\u001b[39m \u001b[38;5;241m1\u001b[39m:\n\u001b[0;32m--> 107\u001b[0m     \u001b[38;5;28;01mraise\u001b[39;00m \u001b[38;5;167;01mValueError\u001b[39;00m(\n\u001b[1;32m    108\u001b[0m         \u001b[38;5;124m\"\u001b[39m\u001b[38;5;124mClassification metrics can\u001b[39m\u001b[38;5;124m'\u001b[39m\u001b[38;5;124mt handle a mix of \u001b[39m\u001b[38;5;132;01m{0}\u001b[39;00m\u001b[38;5;124m and \u001b[39m\u001b[38;5;132;01m{1}\u001b[39;00m\u001b[38;5;124m targets\u001b[39m\u001b[38;5;124m\"\u001b[39m\u001b[38;5;241m.\u001b[39mformat(\n\u001b[1;32m    109\u001b[0m             type_true, type_pred\n\u001b[1;32m    110\u001b[0m         )\n\u001b[1;32m    111\u001b[0m     )\n\u001b[1;32m    113\u001b[0m \u001b[38;5;66;03m# We can't have more than one value on y_type => The set is no more needed\u001b[39;00m\n\u001b[1;32m    114\u001b[0m y_type \u001b[38;5;241m=\u001b[39m y_type\u001b[38;5;241m.\u001b[39mpop()\n",
      "\u001b[0;31mValueError\u001b[0m: Classification metrics can't handle a mix of continuous and multiclass targets"
     ]
    }
   ],
   "source": [
    "print(\"Classification Report:\\n\", classification_report(tmp['rating'], tmp['Sentiment']))"
   ]
  },
  {
   "cell_type": "markdown",
   "id": "3cb37eba-40b5-4857-95aa-4f4b0a60f736",
   "metadata": {},
   "source": [
    "### Comparing distribution count of Sentiment values vs Ratings "
   ]
  },
  {
   "cell_type": "code",
   "execution_count": 30,
   "id": "5a2c984a-b47b-4425-8bd2-ca59bb886e7a",
   "metadata": {
    "execution": {
     "iopub.execute_input": "2025-03-25T20:29:22.942868Z",
     "iopub.status.busy": "2025-03-25T20:29:22.940855Z",
     "iopub.status.idle": "2025-03-25T20:29:23.391717Z",
     "shell.execute_reply": "2025-03-25T20:29:23.390587Z",
     "shell.execute_reply.started": "2025-03-25T20:29:22.942810Z"
    }
   },
   "outputs": [
    {
     "data": {
      "image/png": "[encoded data removed]",
      "text/plain": [
       "<Figure size 1200x400 with 2 Axes>"
      ]
     },
     "metadata": {},
     "output_type": "display_data"
    }
   ],
   "source": [
    "# Create the figure and adjust its size\n",
    "fig , (ax1, ax2) = plt.subplots(1,2, figsize=(12,4))\n",
    "\n",
    "sns.countplot(ax=ax2, data=tmp,x='Rating', order=list(np.arange(1,10.5,0.5)))\n",
    "sns.countplot(ax=ax1, data=tmp,x='Sentiment', order=list(np.arange(1,10.5,0.5)))\n",
    "\n",
    "# Set the axis labels \n",
    "ax1.set_xlabel('Rating')\n",
    "ax1.set_xlabel('Sentiment')\n",
    "\n",
    "# Set Title\n",
    "ax1.set_title('Count by sentiment category')\n",
    "ax2.set_title('Count by rating category')\n",
    "\n",
    "# Set y-axis limit\n",
    "ax1.set_ylim(0,4000)\n",
    "\n",
    "# Show grid on y axis\n",
    "ax1.grid(axis='y')\n",
    "ax2.grid(axis='y')\n",
    "\n",
    "plt.show()"
   ]
  },
  {
   "cell_type": "markdown",
   "id": "a3853cd3-6b11-45c6-b5bb-11cc11015fdc",
   "metadata": {
    "execution": {
     "iopub.execute_input": "2025-03-01T22:00:33.436550Z",
     "iopub.status.busy": "2025-03-01T22:00:33.435980Z",
     "iopub.status.idle": "2025-03-01T22:00:33.448115Z",
     "shell.execute_reply": "2025-03-01T22:00:33.446039Z",
     "shell.execute_reply.started": "2025-03-01T22:00:33.436497Z"
    }
   },
   "source": [
    "---\n",
    "\n",
    "<center>\n",
    "    \n",
    "## Results\n",
    "\n",
    "</center>\n",
    "\n",
    "---"
   ]
  },
  {
   "cell_type": "code",
   "execution_count": null,
   "id": "c65bd858-8779-4573-a316-6fa5ba77e504",
   "metadata": {},
   "outputs": [],
   "source": []
  }
 ],
 "metadata": {
  "kernelspec": {
   "display_name": "graph",
   "language": "python",
   "name": "graph"
  },
  "language_info": {
   "codemirror_mode": {
    "name": "ipython",
    "version": 3
   },
   "file_extension": ".py",
   "mimetype": "text/x-python",
   "name": "python",
   "nbconvert_exporter": "python",
   "pygments_lexer": "ipython3",
   "version": "3.12.7"
  }
 },
 "nbformat": 4,
 "nbformat_minor": 5
}
